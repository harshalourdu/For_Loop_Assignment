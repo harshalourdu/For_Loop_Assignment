{
 "cells": [
  {
   "cell_type": "code",
   "execution_count": 1,
   "id": "8a455594-8357-4b2f-bcf6-d59641229355",
   "metadata": {},
   "outputs": [
    {
     "name": "stdout",
     "output_type": "stream",
     "text": [
      "1\n",
      "2\n",
      "3\n",
      "4\n",
      "5\n",
      "6\n",
      "7\n",
      "8\n",
      "9\n",
      "10\n"
     ]
    }
   ],
   "source": [
    "# 1. Write a Python program to print the numbers from 1 to 10 using a `for` loop.\n",
    "\n",
    "for i in range(1, 11):\n",
    "    print(i)"
   ]
  },
  {
   "cell_type": "code",
   "execution_count": 2,
   "id": "9d8cbf3f-aa3a-4b16-80df-5ab58a73b780",
   "metadata": {},
   "outputs": [
    {
     "name": "stdout",
     "output_type": "stream",
     "text": [
      "42\n",
      "50\n",
      "57\n",
      "58\n",
      "58\n",
      "182\n",
      "9079\n",
      "9634\n",
      "9637\n",
      "9704\n",
      "9803\n"
     ]
    }
   ],
   "source": [
    "# 2. Create a program that calculates the sum of all numbers in a list using a `for` loop\n",
    "\n",
    "x = [42, 8, 7, 1, 0, 124, 8897, 555, 3, 67, 99]\n",
    "sum = 0\n",
    "for n in x:\n",
    " sum+=n\n",
    " print(sum)"
   ]
  },
  {
   "cell_type": "code",
   "execution_count": 4,
   "id": "696073d0-4fe3-479d-9dc7-5364e54b6dc9",
   "metadata": {},
   "outputs": [
    {
     "name": "stdout",
     "output_type": "stream",
     "text": [
      "The original string is:  PWskills\n",
      "The reverse string is slliksWP\n"
     ]
    }
   ],
   "source": [
    "# 3. Write a program to print the characters of a string in reverse order using a `for` loop.\n",
    "\n",
    "def reverse_string(str):  \n",
    "    str1 = \"\"   # Declaring empty string to store the reversed string  \n",
    "    for i in str:  \n",
    "        str1 = i + str1  \n",
    "    return str1    # It will return the reverse string to the caller function  \n",
    "     \n",
    "str = \"PWskills\"    # Given String       \n",
    "print(\"The original string is: \",str)  \n",
    "print(\"The reverse string is\",reverse_string(str)) # Function call  "
   ]
  },
  {
   "cell_type": "code",
   "execution_count": 5,
   "id": "1546eff6-de10-4a9e-94af-e995add6c004",
   "metadata": {},
   "outputs": [
    {
     "name": "stdin",
     "output_type": "stream",
     "text": [
      "Enter a number:  0\n"
     ]
    },
    {
     "name": "stdout",
     "output_type": "stream",
     "text": [
      "Factorial of the given number is:  1\n"
     ]
    }
   ],
   "source": [
    "# 4. Develop a program that finds the factorial of a given number using a `for` loop.\n",
    "\n",
    "n = int (input (\"Enter a number: \"))\n",
    "factorial = 1\n",
    "if n >= 1:\n",
    "    for i in range (1, n+1):\n",
    "        factorial=factorial *i\n",
    "print(\"Factorial of the given number is: \", factorial)"
   ]
  },
  {
   "cell_type": "code",
   "execution_count": 6,
   "id": "b1a7f5f2-234c-472c-8e2f-e169f5db5325",
   "metadata": {},
   "outputs": [
    {
     "name": "stdin",
     "output_type": "stream",
     "text": [
      "Enter the number of which the user wants to print the multiplication table:  2\n"
     ]
    },
    {
     "name": "stdout",
     "output_type": "stream",
     "text": [
      "The Multiplication Table of:  2\n",
      "2 x 1 = 2\n",
      "2 x 2 = 4\n",
      "2 x 3 = 6\n",
      "2 x 4 = 8\n",
      "2 x 5 = 10\n",
      "2 x 6 = 12\n",
      "2 x 7 = 14\n",
      "2 x 8 = 16\n",
      "2 x 9 = 18\n",
      "2 x 10 = 20\n"
     ]
    }
   ],
   "source": [
    "# 5. Create a program to print the multiplication table of a given number using a `for` loop.\n",
    "\n",
    "number = int(input (\"Enter the number of which the user wants to print the multiplication table: \"))      \n",
    "# We are using \"for loop\" to iterate the multiplication 10 times       \n",
    "print (\"The Multiplication Table of: \", number)    \n",
    "for count in range(1, 11):      \n",
    "   print (number, 'x', count, '=', number * count)   "
   ]
  },
  {
   "cell_type": "code",
   "execution_count": 8,
   "id": "8eaa67b3-c822-493f-a286-be17fa17a273",
   "metadata": {},
   "outputs": [
    {
     "name": "stdout",
     "output_type": "stream",
     "text": [
      "Even numbers in the list:  3\n",
      "Odd numbers in the list:  4\n"
     ]
    }
   ],
   "source": [
    "# 6. Write a program that counts the number of even and odd numbers in a list using a `for` loop.\n",
    "\n",
    "list1 = [10, 21, 4, 45, 66, 93, 1]\n",
    " \n",
    "even_count, odd_count = 0, 0\n",
    " \n",
    "# iterating each number in list\n",
    "for num in list1:\n",
    " \n",
    "    # checking condition\n",
    "    if num % 2 == 0:\n",
    "        even_count += 1\n",
    " \n",
    "    else:\n",
    "        odd_count += 1\n",
    "print(\"Even numbers in the list: \", even_count)\n",
    "print(\"Odd numbers in the list: \", odd_count)"
   ]
  },
  {
   "cell_type": "code",
   "execution_count": 12,
   "id": "19d8d328-08d9-476a-927d-cecfd289a8cf",
   "metadata": {},
   "outputs": [
    {
     "name": "stdout",
     "output_type": "stream",
     "text": [
      "List with square of integers from 1 to 50:\n",
      "[1, 4, 9, 16]\n"
     ]
    }
   ],
   "source": [
    "# 7. Develop a program that prints the squares of numbers from 1 to 5 using a `for` loop.\n",
    "\n",
    "l = []\n",
    "\n",
    "for i in range(1, 5):\n",
    "    l.append(i * i)\n",
    "\n",
    "print(\"List with square of integers from 1 to 50:\")\n",
    "print(l)"
   ]
  },
  {
   "cell_type": "code",
   "execution_count": 14,
   "id": "9bac20a8-fbd9-481e-ac96-cd7ff8459d72",
   "metadata": {},
   "outputs": [
    {
     "name": "stdin",
     "output_type": "stream",
     "text": [
      "Enter a string pskills\n"
     ]
    },
    {
     "name": "stdout",
     "output_type": "stream",
     "text": [
      "7\n"
     ]
    }
   ],
   "source": [
    "# 8. Create a program to find the length of a string without using the `len()` function.\n",
    "\n",
    "string=input(\"Enter a string\")\n",
    "a=0\n",
    "for letter in string:\n",
    "  a=a+1\n",
    "print(a)"
   ]
  },
  {
   "cell_type": "code",
   "execution_count": 15,
   "id": "5dbfb4e3-e204-47c7-8410-9f162ca10b80",
   "metadata": {},
   "outputs": [
    {
     "name": "stdout",
     "output_type": "stream",
     "text": [
      "The average is 18.4\n"
     ]
    }
   ],
   "source": [
    "# 9. Write a program that calculates the average of a list of numbers using a `for` loop.\n",
    "\n",
    "def cal_average(num):\n",
    "    sum_num = 0\n",
    "    for t in num:\n",
    "        sum_num = sum_num + t           \n",
    "    avg = sum_num / len(num)\n",
    "    return avg\n",
    "print(\"The average is\", cal_average([18,25,3,41,5]))"
   ]
  },
  {
   "cell_type": "code",
   "execution_count": 16,
   "id": "a14c70fc-0db1-462b-bf5b-6d47b1c853be",
   "metadata": {},
   "outputs": [
    {
     "name": "stdout",
     "output_type": "stream",
     "text": [
      "0 1 1 2 3 5 8 "
     ]
    }
   ],
   "source": [
    "# 10. Develop a program that prints the first `n` Fibonacci numbers using a `for` loop.\n",
    "\n",
    "def fibonacci_numbers(num): \n",
    "    if num == 0: \n",
    "        return 0\n",
    "    elif num == 1: \n",
    "        return 1\n",
    "    else: \n",
    "        # printing fibonacci numbers \n",
    "        return fibonacci_numbers(num-2)+fibonacci_numbers(num-1) \n",
    "  \n",
    "  \n",
    "n = 7\n",
    "for i in range(0, n): \n",
    "    print(fibonacci_numbers(i), end=\" \") "
   ]
  },
  {
   "cell_type": "code",
   "execution_count": 17,
   "id": "bcc9a79c-4e43-44c9-a426-c2da4cd2bdb8",
   "metadata": {},
   "outputs": [
    {
     "name": "stdout",
     "output_type": "stream",
     "text": [
      "[20, 30, -20, 60]\n"
     ]
    }
   ],
   "source": [
    "# 11. Write a program to check if a given list contains any duplicates using a `for` loop.\n",
    "\n",
    "def Repeat(x):\n",
    "    _size = len(x)\n",
    "    repeated = []\n",
    "    for i in range(_size):\n",
    "        k = i + 1\n",
    "        for j in range(k, _size):\n",
    "            if x[i] == x[j] and x[i] not in repeated:\n",
    "                repeated.append(x[i])\n",
    "    return repeated\n",
    " \n",
    "# Driver Code\n",
    "list1 = [10, 20, 30, 20, 20, 30, 40, \n",
    "         50, -20, 60, 60, -20, -20]\n",
    "print (Repeat(list1))"
   ]
  },
  {
   "cell_type": "code",
   "execution_count": 20,
   "id": "c861636b-fc91-4f01-a666-1ac9f7405d78",
   "metadata": {},
   "outputs": [
    {
     "name": "stdout",
     "output_type": "stream",
     "text": [
      "2 3 5 7 "
     ]
    }
   ],
   "source": [
    "# 12 Create a program that prints the prime numbers in a given range using a `for` loop.\n",
    "\n",
    "def isPrime(n):\n",
    "  #since 0 and 1 is not prime return false.\n",
    "  if(n==1 or n==0):\n",
    "    return False\n",
    "   \n",
    "  #Run a loop from 2 to n-1\n",
    "  for i in range(2,n):\n",
    "    #if the number is divisible by i, then n is not a prime number.\n",
    "    if(n%i==0):\n",
    "      return False\n",
    "   \n",
    "  #otherwise, n is prime number.\n",
    "  return True\n",
    "\n",
    "N = 10;\n",
    "#check for every number from 1 to N\n",
    "for i in range(1,N+1):\n",
    "  #check if current number is prime\n",
    "  if(isPrime(i)):\n",
    "    print(i,end=\" \")"
   ]
  },
  {
   "cell_type": "code",
   "execution_count": 21,
   "id": "038291f2-ffba-4352-a8a9-197e0a78b58b",
   "metadata": {},
   "outputs": [
    {
     "name": "stdout",
     "output_type": "stream",
     "text": [
      "No. of vowels : 5\n"
     ]
    }
   ],
   "source": [
    "# 13. Develop a program that counts the number of vowels in a string using a `for` loop.\n",
    "\n",
    "def vowel_count(str):\n",
    "     \n",
    "    # Initializing count variable to 0\n",
    "    count = 0\n",
    "     \n",
    "    # Creating a set of vowels\n",
    "    vowel = set(\"aeiouAEIOU\")\n",
    "     \n",
    "    # Loop to traverse the alphabet\n",
    "    # in the given string\n",
    "    for alphabet in str:\n",
    "     \n",
    "        # If alphabet is present\n",
    "        # in set vowel\n",
    "        if alphabet in vowel:\n",
    "            count = count + 1\n",
    "     \n",
    "    print(\"No. of vowels :\", count)\n",
    "     \n",
    "# Driver code\n",
    "str = \"GeeksforGeeks\"\n",
    " \n",
    "# Function Call\n",
    "vowel_count(str)"
   ]
  },
  {
   "cell_type": "code",
   "execution_count": 22,
   "id": "e9397dae-1e96-4779-8b75-a96473a2edc0",
   "metadata": {},
   "outputs": [
    {
     "name": "stdout",
     "output_type": "stream",
     "text": [
      "504\n"
     ]
    }
   ],
   "source": [
    "# 14. Write a program to find the maximum element in a 2D list using a nested `for` loop.\n",
    "\n",
    "def prod(lis):\n",
    "    maxi = 0\n",
    "     \n",
    "    # traversal in the lists\n",
    "    for x in lis:\n",
    "       \n",
    "        p = 1\n",
    "         \n",
    "        # traversal in list of lists\n",
    "        for i in x:\n",
    "            p *= i\n",
    "            maxi = max(p, maxi)\n",
    "    return maxi\n",
    "\n",
    "l = [[1, 2, 3], [4, 5, 6], [7, 8, 9]]\n",
    "print(prod(l))"
   ]
  },
  {
   "cell_type": "code",
   "execution_count": 24,
   "id": "9107b715-063f-470b-a963-32095125c028",
   "metadata": {},
   "outputs": [
    {
     "name": "stdout",
     "output_type": "stream",
     "text": [
      "Original list:\n",
      "[10, 20, 10, 30, 10, 40, 10, 50]\n",
      "list after removing elements:\n",
      "[20, 30, 40, 50]\n"
     ]
    }
   ],
   "source": [
    "# 15. Create a program that removes all occurrences of a specific element from a list using a `for` loop.\n",
    "\n",
    "list = [10, 20, 10, 30, 10, 40, 10, 50]\n",
    "# number (n) to be removed\n",
    "n = 10\n",
    "\n",
    "# print original list \n",
    "print (\"Original list:\")\n",
    "print (list)\n",
    "\n",
    "# loop to traverse each element in list\n",
    "# and, remove elements \n",
    "# which are equals to n\n",
    "for x in list:\n",
    "    if x == n:\n",
    "        list.remove(x)\n",
    "\n",
    "# print list after removing given element\n",
    "print (\"list after removing elements:\")\n",
    "print (list)"
   ]
  },
  {
   "cell_type": "code",
   "execution_count": 42,
   "id": "e36d27ae-48e1-4a31-b15b-e8f48fb1828e",
   "metadata": {},
   "outputs": [
    {
     "name": "stdout",
     "output_type": "stream",
     "text": [
      "       1   2   3   4   5   6   7   8   9\n",
      "   1   1   2   3   4   5   6   7   8   9\n",
      "   2   2   4   6   8  10  12  14  16  18\n",
      "   3   3   6   9  12  15  18  21  24  27\n",
      "   4   4   8  12  16  20  24  28  32  36\n",
      "   5   5  10  15  20  25  30  35  40  45\n",
      "   6   6  12  18  24  30  36  42  48  54\n",
      "   7   7  14  21  28  35  42  49  56  63\n",
      "   8   8  16  24  32  40  48  56  64  72\n",
      "   9   9  18  27  36  45  54  63  72  81\n"
     ]
    }
   ],
   "source": [
    "# 16. Develop a program that generates a multiplication table for numbers from 1 to 5 using a nested `for` loop.\n",
    "\n",
    "for row in range(0, 10):\n",
    "    for col in range(0, 10):\n",
    "        num = row * col\n",
    "        if num < 10:\n",
    "            empty = \"  \"\n",
    "        else:\n",
    "            if num < 100:\n",
    "                empty = \" \"\n",
    "        if col == 0:\n",
    "            if row == 0:\n",
    "                print(\"    \", end='')\n",
    "            else:\n",
    "                print(\"  \", row, end='')\n",
    "        elif row == 0:\n",
    "            print(\"  \", col, end='')\n",
    "        else:\n",
    "            print(empty, num, end='')\n",
    "    print()"
   ]
  },
  {
   "cell_type": "code",
   "execution_count": 32,
   "id": "c5624176-c81a-47ec-a008-34f69772ceb4",
   "metadata": {},
   "outputs": [
    {
     "name": "stdout",
     "output_type": "stream",
     "text": [
      "[32.111111111111114, 19.444444444444443, 33.333333333333336, 37.22222222222222]\n"
     ]
    }
   ],
   "source": [
    "# 17. Write a program that converts a list of Fahrenheit temperatures to Celsius using a `for` loop.\n",
    "\n",
    "fah = [89.8, 67.0, 92, 99]\n",
    "\n",
    "cen = []\n",
    "for f in fah:\n",
    "    c = (f - 32) * 5 / 9\n",
    "    cen.append(c)\n",
    "\n",
    "print(cen)"
   ]
  },
  {
   "cell_type": "code",
   "execution_count": 33,
   "id": "3b7703e7-480e-4e2b-92ea-49fbe93110f9",
   "metadata": {},
   "outputs": [
    {
     "name": "stdout",
     "output_type": "stream",
     "text": [
      "[5]\n",
      "no common elements\n"
     ]
    }
   ],
   "source": [
    "# 18. Create a program to print the common elements from two lists using a `for` loop\n",
    "\n",
    "def common_member(a, b):\n",
    "  # create an empty dictionary to store the count of each element\n",
    "    common_dict = {}\n",
    "    for elem in a:\n",
    "      # if the element is already in the dictionary\n",
    "        if elem in common_dict:\n",
    "           # increment the count\n",
    "            common_dict[elem] += 1\n",
    "        # if the element is not in the dictionary\n",
    "        else:\n",
    "            common_dict[elem] = 1  # add it to the dictionary with a count of 1\n",
    "    for elem in b:  # loop through each element in the second set\n",
    "        if elem in common_dict:  # if the element is already in the dictionary\n",
    "            common_dict[elem] += 1  # increment the count\n",
    "        else:  # if the element is not in the dictionary\n",
    "            common_dict[elem] = 1  # add it to the dictionary with a count of 1\n",
    "    # create a list of elements that have a count of 2 in the dictionary\n",
    "    common = [elem for elem in common_dict if common_dict[elem] == 2]\n",
    "    if len(common) > 0:  # if there are common elements\n",
    "        return common  # return the list of common elements\n",
    "    else:  # if there are no common elements\n",
    "        return \"no common elements\"  # return a message saying so\n",
    " \n",
    " \n",
    "a = [1, 2, 3, 4, 5]\n",
    "b = [5, 6, 7, 8, 9]\n",
    "print(common_member(a, b))\n",
    " \n",
    "a = [1, 2, 3, 4, 5]\n",
    "b = [6, 7, 8, 9]\n",
    "print(common_member(a, b))"
   ]
  },
  {
   "cell_type": "code",
   "execution_count": 34,
   "id": "3bd96c52-2664-40c9-9e75-15798094cb49",
   "metadata": {},
   "outputs": [
    {
     "name": "stdin",
     "output_type": "stream",
     "text": [
      "Please Enter the Total Number of Rows  :  5\n"
     ]
    },
    {
     "name": "stdout",
     "output_type": "stream",
     "text": [
      "Right Angled Triangle Star Pattern\n",
      "*  \n",
      "*  *  \n",
      "*  *  *  \n",
      "*  *  *  *  \n",
      "*  *  *  *  *  \n"
     ]
    }
   ],
   "source": [
    "# 19. Develop a program that prints the pattern of right-angled triangles using a `for` loop. Use ‘*’ to draw the\n",
    "#pattern\n",
    "\n",
    "rows = int(input(\"Please Enter the Total Number of Rows  : \"))\n",
    "\n",
    "print(\"Right Angled Triangle Star Pattern\") \n",
    "for i in range(1, rows + 1):\n",
    "    for j in range(1, i + 1):\n",
    "        print('*', end = '  ')\n",
    "    print()"
   ]
  },
  {
   "cell_type": "code",
   "execution_count": 36,
   "id": "535e6163-de7a-432a-96e6-100f6f8f16a7",
   "metadata": {},
   "outputs": [
    {
     "name": "stdout",
     "output_type": "stream",
     "text": [
      "TWO POSITIVE INTEGER NUMBERS::\n"
     ]
    },
    {
     "name": "stdin",
     "output_type": "stream",
     "text": [
      " 10\n",
      " 40\n"
     ]
    },
    {
     "name": "stdout",
     "output_type": "stream",
     "text": [
      "\n",
      "GCD = 10\n"
     ]
    }
   ],
   "source": [
    "# 20. Write a program to find the greatest common divisor (GCD) of two numbers using a `for` loop.\n",
    "\n",
    "p, q = None, None # To store the two positive numbers\n",
    "\n",
    "print (\"TWO POSITIVE INTEGER NUMBERS::\")\n",
    "p = int (input ())\n",
    "q = int (input ())\n",
    "\n",
    "# It will calculate the GCD\n",
    "for i in range (1, p + 1):\n",
    "\tif i <= q:\n",
    "\t\tif p % i == 0 and q % i == 0:\n",
    "\t\t\tg = i\n",
    "\n",
    "# It will print the final output\n",
    "print (\"\\nGCD =\", p)"
   ]
  },
  {
   "cell_type": "code",
   "execution_count": 1,
   "id": "29b0a514-8976-4836-a2d5-6174af335b2a",
   "metadata": {},
   "outputs": [
    {
     "name": "stdout",
     "output_type": "stream",
     "text": [
      "The original list is : [12, 67, 98, 34]\n",
      "List Integer Summation : [3, 13, 17, 7]\n"
     ]
    }
   ],
   "source": [
    "# 21. Create a program that calculates the sum of the digits of numbers in a list using a list comprehension\n",
    "\n",
    "test_list = [12, 67, 98, 34]\n",
    "print(\"The original list is : \" + str(test_list))\n",
    "\n",
    "# Sum of number digits in List\n",
    "# using sum() + list comprehension\n",
    "res = list(map(lambda ele: sum(int(sub) for sub in str(ele)), test_list))\n",
    "     \n",
    "# printing result \n",
    "print (\"List Integer Summation : \" + str(res))"
   ]
  },
  {
   "cell_type": "code",
   "execution_count": 2,
   "id": "3f183a21-cf31-4445-bfd2-5d17e0e5296c",
   "metadata": {},
   "outputs": [
    {
     "name": "stdin",
     "output_type": "stream",
     "text": [
      " Please Enter any Number:  6\n"
     ]
    },
    {
     "name": "stdout",
     "output_type": "stream",
     "text": [
      " 2 is a Prime Factor of a Given Number 6\n",
      " 3 is a Prime Factor of a Given Number 6\n"
     ]
    }
   ],
   "source": [
    "# 22. Write a program to find the prime factors of a given number using a `for` loop and list comprehension.\n",
    "\n",
    "Number = int(input(\" Please Enter any Number: \"))\n",
    "\n",
    "for i in range(2, Number + 1):\n",
    "    if(Number % i == 0):\n",
    "        isprime = 1\n",
    "        for j in range(2, (i //2 + 1)):\n",
    "            if(i % j == 0):\n",
    "                isprime = 0\n",
    "                break\n",
    "            \n",
    "        if (isprime == 1):\n",
    "            print(\" %d is a Prime Factor of a Given Number %d\" %(i, Number))"
   ]
  },
  {
   "cell_type": "code",
   "execution_count": 3,
   "id": "bc823b70-6b4a-4638-b5e1-5fce5bd7c039",
   "metadata": {},
   "outputs": [
    {
     "name": "stdout",
     "output_type": "stream",
     "text": [
      "[1, 2, 3, 4, 5]\n"
     ]
    }
   ],
   "source": [
    "# 23. Develop a program that extracts unique elements from a list and stores them in a new list using a list\n",
    "#comprehension.\n",
    "\n",
    "numbers = [1, 2, 2, 3, 3, 4, 5]\n",
    "\n",
    "\n",
    "def get_unique_numbers(numbers):\n",
    "\n",
    "    list_of_unique_numbers = []\n",
    "\n",
    "    unique_numbers = set(numbers)\n",
    "\n",
    "    for number in unique_numbers:\n",
    "        list_of_unique_numbers.append(number)\n",
    "\n",
    "    return list_of_unique_numbers\n",
    "\n",
    "\n",
    "print(get_unique_numbers(numbers))\n",
    "# result: [1, 2, 3, 4, 5]"
   ]
  },
  {
   "cell_type": "code",
   "execution_count": 4,
   "id": "959479a4-1d8d-44ae-a4d8-a373e396432f",
   "metadata": {},
   "outputs": [
    {
     "name": "stdout",
     "output_type": "stream",
     "text": [
      "The list is :\n",
      "[77, 1, 56, 65, 1, 77]\n",
      "The list is a palindrome\n"
     ]
    }
   ],
   "source": [
    "# 24. Create a program that generates a list of all palindromic numbers up to a specified limit using a list\n",
    "#comprehension.\n",
    "\n",
    "def check_palindrome_list(my_str):\n",
    "   if my_str == my_str[::-1]:\n",
    "      print(\"The list is a palindrome\")\n",
    "   else:\n",
    "      print(\"The list isn't a palindrome\")\n",
    "\n",
    "my_list = [77, 1, 56, 65, 1, 77]\n",
    "\n",
    "print(\"The list is :\")\n",
    "print(my_list)\n",
    "\n",
    "my_list = ' '.join([str(elem) for elem in my_list])\n",
    "check_palindrome_list(my_list)"
   ]
  },
  {
   "cell_type": "code",
   "execution_count": 5,
   "id": "6a2dc44c-c370-4c77-b0cd-0692322dba91",
   "metadata": {},
   "outputs": [
    {
     "name": "stdout",
     "output_type": "stream",
     "text": [
      "[1, 2, 3, 4, 5, 6, 7]\n"
     ]
    }
   ],
   "source": [
    "# 25. Write a program to flatten a nested list using list comprehension.\n",
    "\n",
    "my_list = [[1], [2, 3], [4, 5, 6, 7]]\n",
    "\n",
    "flat_list = [num for sublist in my_list for num in sublist]\n",
    "print(flat_list)"
   ]
  },
  {
   "cell_type": "code",
   "execution_count": 6,
   "id": "b51e4173-2847-4c02-bd4b-1943907094dc",
   "metadata": {},
   "outputs": [
    {
     "name": "stdout",
     "output_type": "stream",
     "text": [
      "Even numbers in the list:  3\n",
      "Odd numbers in the list:  4\n"
     ]
    }
   ],
   "source": [
    "# 26. Develop a program that computes the sum of even and odd numbers in a list separately using list\n",
    "#comprehension.\n",
    "\n",
    "list1 = [10, 21, 4, 45, 66, 93, 11]\n",
    " \n",
    "only_odd = [num for num in list1 if num % 2 == 1]\n",
    "odd_count = len(only_odd)\n",
    " \n",
    "print(\"Even numbers in the list: \", len(list1) - odd_count)\n",
    "print(\"Odd numbers in the list: \", odd_count)"
   ]
  },
  {
   "cell_type": "code",
   "execution_count": 7,
   "id": "c085bdb3-1f5a-48d4-9356-95ea8f205696",
   "metadata": {},
   "outputs": [
    {
     "name": "stdout",
     "output_type": "stream",
     "text": [
      "[1, 9, 25, 49, 81]\n"
     ]
    }
   ],
   "source": [
    "# 27. Create a program that generates a list of squares of odd numbers between 1 and 10 using list\n",
    "#comprehension.\n",
    "\n",
    "data=[1,2,3,4,5,6,7,8,9,10]\n",
    " \n",
    "# use list comprehension to get square\n",
    "# of odd numbers\n",
    "result = [i*i for i in data if i%2!=0]\n",
    " \n",
    "# display the result\n",
    "print(result)"
   ]
  },
  {
   "cell_type": "code",
   "execution_count": 8,
   "id": "a6a3a96f-a1cb-45db-aa40-7141800ef797",
   "metadata": {},
   "outputs": [
    {
     "name": "stdout",
     "output_type": "stream",
     "text": [
      "{1: 'python', 2: 'c', 3: 'c++'}\n"
     ]
    }
   ],
   "source": [
    "# 28. Write a program that combines two lists into a dictionary using list comprehension.\n",
    "\n",
    "index = [1, 2, 3]\n",
    "languages = ['python', 'c', 'c++']\n",
    "\n",
    "dictionary = {k: v for k, v in zip(index, languages)}\n",
    "print(dictionary)"
   ]
  },
  {
   "cell_type": "code",
   "execution_count": 9,
   "id": "789e1ab1-fe83-4645-9d9d-3e919e61a323",
   "metadata": {},
   "outputs": [
    {
     "name": "stdout",
     "output_type": "stream",
     "text": [
      "The original list is : ['all', 'love', 'and', 'get', 'educated', 'by', 'gfg']\n",
      "The extracted words : ['all', 'and', 'educated']\n"
     ]
    }
   ],
   "source": [
    "# 29. Develop a program that extracts the vowels from a string and stores them in a list using list comprehension.\n",
    "\n",
    "test_list = [\"all\", \"love\", \"and\", \"get\", \"educated\", \"by\", \"gfg\"]\n",
    " \n",
    "# Printing original list\n",
    "print(\"The original list is : \" + str(test_list))\n",
    " \n",
    "res = [word for word in test_list if word[0] in \"aeiou\"]\n",
    " \n",
    "# Printing result\n",
    "print(\"The extracted words : \" + str(res))"
   ]
  },
  {
   "cell_type": "code",
   "execution_count": 11,
   "id": "36e4ec59-8cdd-4efa-8b49-0ea3b64e4f6d",
   "metadata": {},
   "outputs": [
    {
     "name": "stdout",
     "output_type": "stream",
     "text": [
      "12345\n"
     ]
    }
   ],
   "source": [
    "# 30. Create a program that removes all non-numeric characters from a list of strings using list comprehension\n",
    "\n",
    "import re\n",
    "\n",
    "my_str = 'Python12345'\n",
    "\n",
    "result = re.sub(r'[^0-9]', '', my_str)\n",
    "\n",
    "print(result)"
   ]
  },
  {
   "cell_type": "code",
   "execution_count": 12,
   "id": "8d94c7a9-f410-4664-916b-bc7d2ac1b136",
   "metadata": {},
   "outputs": [
    {
     "name": "stdout",
     "output_type": "stream",
     "text": [
      "Following are the prime numbers smaller\n",
      "than or equal to 20\n",
      "2\n",
      "3\n",
      "5\n",
      "7\n",
      "11\n",
      "13\n",
      "17\n",
      "19\n"
     ]
    }
   ],
   "source": [
    "# 31. Write a program to generate a list of prime numbers using the Sieve of Eratosthenes algorithm and list\n",
    "#comprehension.\n",
    "\n",
    "# Python program to print all \n",
    "# primes smaller than or equal to \n",
    "# n using Sieve of Eratosthenes \n",
    "  \n",
    "  \n",
    "def SieveOfEratosthenes(n): \n",
    "  \n",
    "    # Create a boolean array \n",
    "    # \"prime[0..n]\" and initialize \n",
    "    #  all entries it as true. \n",
    "    # A value in prime[i] will \n",
    "    # finally be false if i is \n",
    "    # Not a prime, else true. \n",
    "    prime = [True for i in range(n+1)] \n",
    "    p = 2\n",
    "    while (p * p <= n): \n",
    "  \n",
    "        # If prime[p] is not \n",
    "        # changed, then it is a prime \n",
    "        if (prime[p] == True): \n",
    "  \n",
    "            # Update all multiples of p \n",
    "            for i in range(p * p, n+1, p): \n",
    "                prime[i] = False\n",
    "        p += 1\n",
    "  \n",
    "    # Print all prime numbers \n",
    "    for p in range(2, n+1): \n",
    "        if prime[p]: \n",
    "            print(p) \n",
    "  \n",
    "  \n",
    "# Driver code \n",
    "if __name__ == '__main__': \n",
    "    n = 20\n",
    "    print(\"Following are the prime numbers smaller\"), \n",
    "    print(\"than or equal to\", n) \n",
    "    SieveOfEratosthenes(n) "
   ]
  },
  {
   "cell_type": "code",
   "execution_count": 14,
   "id": "2e4d42f2-4b01-433a-9c70-891453db8683",
   "metadata": {},
   "outputs": [
    {
     "name": "stdin",
     "output_type": "stream",
     "text": [
      "Enter the value of n: 100\n"
     ]
    },
    {
     "name": "stdout",
     "output_type": "stream",
     "text": [
      "[(3, 4, 5), (8, 6, 10), (5, 12, 13), (15, 8, 17), (12, 16, 20), (7, 24, 25), (24, 10, 26), (21, 20, 29), (16, 30, 34), (9, 40, 41), (35, 12, 37), (32, 24, 40), (27, 36, 45), (20, 48, 52), (11, 60, 61), (48, 14, 50), (45, 28, 53), (40, 42, 58), (33, 56, 65), (24, 70, 74), (13, 84, 85), (63, 16, 65), (60, 32, 68), (55, 48, 73), (48, 64, 80), (39, 80, 89), (28, 96, 100)]\n"
     ]
    }
   ],
   "source": [
    "# 32. Create a program that generates a list of all Pythagorean triplets up to a specified limit using list\n",
    "#comprehension.\n",
    "\n",
    "n = int(input(\"Enter the value of n:\"))\n",
    "\n",
    "a = 0\n",
    "b = 0\n",
    "c = 0\n",
    "m = 2\n",
    "triples = []\n",
    "\n",
    "while c < n:\n",
    "    for i in range(1, m, 1):\n",
    "        a = m*m - i*i\n",
    "        b = 2*m*i\n",
    "        c = m*m + i*i\n",
    "        if c > n:\n",
    "            break\n",
    "        triples.append((a, b, c))\n",
    "    m += 1\n",
    "\n",
    "print(triples)"
   ]
  },
  {
   "cell_type": "code",
   "execution_count": null,
   "id": "334b634a-4263-48a5-80c1-35ffc93d7eee",
   "metadata": {},
   "outputs": [],
   "source": []
  }
 ],
 "metadata": {
  "kernelspec": {
   "display_name": "Python 3 (ipykernel)",
   "language": "python",
   "name": "python3"
  },
  "language_info": {
   "codemirror_mode": {
    "name": "ipython",
    "version": 3
   },
   "file_extension": ".py",
   "mimetype": "text/x-python",
   "name": "python",
   "nbconvert_exporter": "python",
   "pygments_lexer": "ipython3",
   "version": "3.10.8"
  }
 },
 "nbformat": 4,
 "nbformat_minor": 5
}
